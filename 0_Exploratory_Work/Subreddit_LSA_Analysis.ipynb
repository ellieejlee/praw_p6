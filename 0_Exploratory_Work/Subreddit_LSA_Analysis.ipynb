{
 "cells": [
  {
   "cell_type": "code",
   "execution_count": 39,
   "metadata": {},
   "outputs": [],
   "source": [
    "from matplotlib.pyplot import *\n",
    "import numpy\n",
    "from IPython.display import display"
   ]
  },
  {
   "cell_type": "code",
   "execution_count": 40,
   "metadata": {},
   "outputs": [],
   "source": [
    "import praw\n",
    "\n",
    "reddit = praw.Reddit(client_id='Bmkuwt-Cz8rTgw',\n",
    "                     client_secret='M2WDVEEaXfQqAwKgibu6YSdh5Ec',\n",
    "                     password='^*i%bHAi32Yk',\n",
    "                     user_agent='testscript by /u/rkeb',\n",
    "                     username='rkeb')"
   ]
  },
  {
   "cell_type": "code",
   "execution_count": 41,
   "metadata": {},
   "outputs": [],
   "source": [
    "reddit.config.store_json_result = True\n",
    "subreddit = reddit.subreddit(\"all\")"
   ]
  },
  {
   "cell_type": "markdown",
   "metadata": {},
   "source": [
    "## Topic Analysis of ex_addict_bro's comments"
   ]
  },
  {
   "cell_type": "code",
   "execution_count": 42,
   "metadata": {},
   "outputs": [],
   "source": [
    "#Topics for each subreddit?\n",
    "#Which topic did they comment on?"
   ]
  },
  {
   "cell_type": "code",
   "execution_count": 43,
   "metadata": {},
   "outputs": [
    {
     "data": {
      "text/html": [
       "<div>\n",
       "<style scoped>\n",
       "    .dataframe tbody tr th:only-of-type {\n",
       "        vertical-align: middle;\n",
       "    }\n",
       "\n",
       "    .dataframe tbody tr th {\n",
       "        vertical-align: top;\n",
       "    }\n",
       "\n",
       "    .dataframe thead th {\n",
       "        text-align: right;\n",
       "    }\n",
       "</style>\n",
       "<table border=\"1\" class=\"dataframe\">\n",
       "  <thead>\n",
       "    <tr style=\"text-align: right;\">\n",
       "      <th></th>\n",
       "      <th>body</th>\n",
       "    </tr>\n",
       "  </thead>\n",
       "  <tbody>\n",
       "    <tr>\n",
       "      <th>0</th>\n",
       "      <td>think great.</td>\n",
       "    </tr>\n",
       "    <tr>\n",
       "      <th>1</th>\n",
       "      <td>this rant mad!!!111 don't want lift don't want have muscles\" don't want look like man\" that's words swolemädchen haven been mislead broki, that hear most often! there whey your chalice, what going...</td>\n",
       "    </tr>\n",
       "    <tr>\n",
       "      <th>2</th>\n",
       "      <td>wants break contact with that other girl. when that, gone. similar situation happened life. this about you, this about her. \"take back\", means value, that other girl does not. noticed, that aren't...</td>\n",
       "    </tr>\n",
       "    <tr>\n",
       "      <th>3</th>\n",
       "      <td>making mistake. cheating addiction. showing that addiction mistake codependency. even worst addiction. focus actions: leave that bitch, don't live with never ever, divorce her. soon possible. your...</td>\n",
       "    </tr>\n",
       "    <tr>\n",
       "      <th>4</th>\n",
       "      <td>wife classic redhead your wife classic reflection you.</td>\n",
       "    </tr>\n",
       "    <tr>\n",
       "      <th>5</th>\n",
       "      <td>100% purple pill. problem didn't read article about being purple pill, i've read article about low-iq baby-faced hobbit wearing salvation army sweater built well enough, because that's what ~~girl...</td>\n",
       "    </tr>\n",
       "    <tr>\n",
       "      <th>6</th>\n",
       "      <td>this mainly those that know background \"read post history, please, because i've been busy posting shit instead reading fucking book from sidebar\" long story short wife just figured deleted some te...</td>\n",
       "    </tr>\n",
       "    <tr>\n",
       "      <th>7</th>\n",
       "      <td>instead looking excuses, started investigating solutions lift diet.</td>\n",
       "    </tr>\n",
       "    <tr>\n",
       "      <th>8</th>\n",
       "      <td>block everywhere, phone, facebook, email. never talk again.</td>\n",
       "    </tr>\n",
       "    <tr>\n",
       "      <th>9</th>\n",
       "      <td>reason lose frame over some guy, obviously either hangover looked someone pass anger whatever. some guards like show their authoritaeee respect that, always humble front them, shake their hands th...</td>\n",
       "    </tr>\n",
       "    <tr>\n",
       "      <th>10</th>\n",
       "      <td>your wife leaves because wants beta walk this happened. from what kids tell does everything says, talks with phone lot, spends time with her. he's basically before addicts therapy trp. and, finall...</td>\n",
       "    </tr>\n",
       "    <tr>\n",
       "      <th>11</th>\n",
       "      <td>her: (quiet) \"yes. don't want divorce you, understand. won't bring up.\" looks like tired with words spewed just wanted stop yapping. said that finally stfu start posting your wall text instead bec...</td>\n",
       "    </tr>\n",
       "    <tr>\n",
       "      <th>12</th>\n",
       "      <td>you're even worse than husband. you're beta orbiter.</td>\n",
       "    </tr>\n",
       "    <tr>\n",
       "      <th>13</th>\n",
       "      <td>every single bullet dodged. pre-rp, even. very fat. cats. married ones bored look side dick. wife post history. give enough time eventually they detoriate. and, actually, feel guilty being enough ...</td>\n",
       "    </tr>\n",
       "    <tr>\n",
       "      <th>14</th>\n",
       "      <td>honest, laugh yourself, boner not, loose boner won't, will last seconds seconds when first fucked) minutes, this does matter. you're there have fun, show idgaf make sure won't pregnant.</td>\n",
       "    </tr>\n",
       "    <tr>\n",
       "      <th>15</th>\n",
       "      <td>bigkyle23, nice meet you. deal that hopeless fuck that book helped only useful 10%, this means didn't need other 90%. this means you're probably less useless fuck than was. which good you. deal th...</td>\n",
       "    </tr>\n",
       "    <tr>\n",
       "      <th>16</th>\n",
       "      <td>sure this right place post, married only 19yo college student, father pointed here thought make post. ahahahahahah. kudos. real mother fucker, that yours. advice greatly appreciated. lift sidebar ...</td>\n",
       "    </tr>\n",
       "    <tr>\n",
       "      <th>17</th>\n",
       "      <td>dude, you're great. you're best troll whole year it's december means something.</td>\n",
       "    </tr>\n",
       "    <tr>\n",
       "      <th>18</th>\n",
       "      <td>yes. write post about this main subreddit.</td>\n",
       "    </tr>\n",
       "    <tr>\n",
       "      <th>19</th>\n",
       "      <td>yes, don’t care much came here, read actual discussion, felt same butthurt when hunter, then added this comment show your lack care even further. congratulations. you’re best keyboard warrior, jus...</td>\n",
       "    </tr>\n",
       "    <tr>\n",
       "      <th>20</th>\n",
       "      <td>maybe it's just easier have face face conversation talking about having face face conversations after posted that anti rant seems hypocritical just clearly shows made mistake have fucking idea what</td>\n",
       "    </tr>\n",
       "    <tr>\n",
       "      <th>21</th>\n",
       "      <td>from what understood, your opinion, tfa's work detrimental purple-pill, watered-down piece shit. cool, choice attack writings, instead decided attack looks, only made sure know he's less swole tha...</td>\n",
       "    </tr>\n",
       "    <tr>\n",
       "      <th>22</th>\n",
       "      <td>after back forth tells come over after work..but adds \"but just want make clear that don't want have with you\" dtf. wanted fuck you. girl saying this actually good thing want fuck her). hear this ...</td>\n",
       "    </tr>\n",
       "    <tr>\n",
       "      <th>23</th>\n",
       "      <td>know what they call a... whey shake with bcaa paris?</td>\n",
       "    </tr>\n",
       "    <tr>\n",
       "      <th>24</th>\n",
       "      <td>pussy locked down there such thing \"pussy locked down\". those young guys about learn hard way.</td>\n",
       "    </tr>\n",
       "    <tr>\n",
       "      <th>25</th>\n",
       "      <td>don't sucked little good sex. this. best fucks with wife were ones before moved out.</td>\n",
       "    </tr>\n",
       "    <tr>\n",
       "      <th>26</th>\n",
       "      <td>your post overly focused woman reads like prime r/cuckoldfiction material. just copy-paste this post introduction.</td>\n",
       "    </tr>\n",
       "    <tr>\n",
       "      <th>27</th>\n",
       "      <td>this exactly. when divorced, thought \"oh, she's good mother\". what bullcrap. good mother disrespects father front children.</td>\n",
       "    </tr>\n",
       "    <tr>\n",
       "      <th>28</th>\n",
       "      <td>fucking wife. fault again.</td>\n",
       "    </tr>\n",
       "    <tr>\n",
       "      <th>29</th>\n",
       "      <td>(our) life</td>\n",
       "    </tr>\n",
       "    <tr>\n",
       "      <th>...</th>\n",
       "      <td>...</td>\n",
       "    </tr>\n",
       "    <tr>\n",
       "      <th>70</th>\n",
       "      <td>disowned because what wanted told fuck home did. invited rented flat then, refused. ignored wife, ignored family events invited today understand narcissistic accept wanted live. same thing with wi...</td>\n",
       "    </tr>\n",
       "    <tr>\n",
       "      <th>71</th>\n",
       "      <td>used tell badly wanted bang, she's saying won't. this, dear class, should never ever plate fucking manipulating you, already signed relationship had, using plan orbiter! i've been holding frame we...</td>\n",
       "    </tr>\n",
       "    <tr>\n",
       "      <th>72</th>\n",
       "      <td>enjoy worry-free creampies while lasts. month pregnancy visible unless carry ultrasound machine place. don't worry, lease portable one. find that small beating heart? cool, ultrasound lube. sarcas...</td>\n",
       "    </tr>\n",
       "    <tr>\n",
       "      <th>73</th>\n",
       "      <td>i'll take opposite stance other guys commenting. think difference between that pecs your pecs insignificant. inches maybe lifting months longer, maybe eats kcal more, maybe... doesn't matter. does...</td>\n",
       "    </tr>\n",
       "    <tr>\n",
       "      <th>74</th>\n",
       "      <td>sure what's going with endorsed contributors, iirc, girl mentioning means sex. says sex\", thinks about sex. your decisions about her... what your goal? don't reply just right there. want sex, just...</td>\n",
       "    </tr>\n",
       "    <tr>\n",
       "      <th>75</th>\n",
       "      <td>frame drop detected. butt hurt intensifies.</td>\n",
       "    </tr>\n",
       "    <tr>\n",
       "      <th>76</th>\n",
       "      <td>standard answer woman threatens leave “the door right there.” became extremely simple when started weaning codependency. \"fight relationship\", sounds head, overheard probably over some disney blue...</td>\n",
       "    </tr>\n",
       "    <tr>\n",
       "      <th>77</th>\n",
       "      <td>agree fully. whole situation would existent haven’t left youngest. lesson learned, thanks your comment.</td>\n",
       "    </tr>\n",
       "    <tr>\n",
       "      <th>78</th>\n",
       "      <td>fibrillation! apoc, location?!</td>\n",
       "    </tr>\n",
       "    <tr>\n",
       "      <th>79</th>\n",
       "      <td>that's woman stuff. just fucking ignore handled perfectly asshole, caused some emotion. wash dick tonight were you. don't make harder her.</td>\n",
       "    </tr>\n",
       "    <tr>\n",
       "      <th>80</th>\n",
       "      <td>explanation first post. kids from previous relationship(s). his. he's taking care probably them. will never respect him. u/venge97ri, hear</td>\n",
       "    </tr>\n",
       "    <tr>\n",
       "      <th>81</th>\n",
       "      <td>would safe assume that thought fucking when arrive would have almost certainly crossed mind? dude this moment missed, when thought about fucking: wow, it's been long time since took clothes room. ...</td>\n",
       "    </tr>\n",
       "    <tr>\n",
       "      <th>82</th>\n",
       "      <td>here your problems: drunk lost frame deal won't never ever give girl reasons fuck while freely expressing myself. there will never break with you\" from there will ghosting, unanswered calls, block...</td>\n",
       "    </tr>\n",
       "    <tr>\n",
       "      <th>83</th>\n",
       "      <td>there nothing ashamed being caring doctor does mean you’re unmanly. female patients feel that they’re actually more comfortable with you. shit, some sexual banter with most patients every single t...</td>\n",
       "    </tr>\n",
       "    <tr>\n",
       "      <th>84</th>\n",
       "      <td>people like many leave. special snowflake endorsed cucktributor decides leave because some comments, means shouldn't endorsed first place. unless meant something else, that's first thing that came...</td>\n",
       "    </tr>\n",
       "    <tr>\n",
       "      <th>85</th>\n",
       "      <td>r/thanktrp</td>\n",
       "    </tr>\n",
       "    <tr>\n",
       "      <th>86</th>\n",
       "      <td>divorced father here. does that mean value high, some super alpha just came along? probably wasn't better, just different. read \"practical female psychology\". will never alpha world world? workpla...</td>\n",
       "    </tr>\n",
       "    <tr>\n",
       "      <th>87</th>\n",
       "      <td>like your photo without shirt, then i'll give advice. post</td>\n",
       "    </tr>\n",
       "    <tr>\n",
       "      <th>88</th>\n",
       "      <td>that's proper observation it's actually deeper thing. there's that book \"obesity family affair\". there overeaters anonymous meetings. there multiple cases women loosing weight fucking other people...</td>\n",
       "    </tr>\n",
       "    <tr>\n",
       "      <th>89</th>\n",
       "      <td>please critique this **text discussion with wife** boom, here's your critique. bold font what wrong. done.</td>\n",
       "    </tr>\n",
       "    <tr>\n",
       "      <th>90</th>\n",
       "      <td>skinny white knight. you're beyond hopeless man.</td>\n",
       "    </tr>\n",
       "    <tr>\n",
       "      <th>91</th>\n",
       "      <td>drunks gonna drunk. codependent bitches gonna stockholm syndrome. atta boy. that showed her.</td>\n",
       "    </tr>\n",
       "    <tr>\n",
       "      <th>92</th>\n",
       "      <td>there gives fuck about this exactly maybe someone does, definitely hey, cholo, wasn't that your quote have fridge... that went... \"you're weak fuck thousands years already dead your wife would fuc...</td>\n",
       "    </tr>\n",
       "    <tr>\n",
       "      <th>93</th>\n",
       "      <td>can’t have orgasm when have start having fun. orgasm none your business. having your life, being dominant, happy with have with from your perspective? stop caring about orgasm. women orgasm with d...</td>\n",
       "    </tr>\n",
       "    <tr>\n",
       "      <th>94</th>\n",
       "      <td>last time gave drama. bitches love drama.</td>\n",
       "    </tr>\n",
       "    <tr>\n",
       "      <th>95</th>\n",
       "      <td>http://www.retroactivejealousycrusher.com/ dude, what heck. r/cuckold this way. edit: honestly. would woman many guys slept with? n-count that makes what does that matter? would woman about this? ...</td>\n",
       "    </tr>\n",
       "    <tr>\n",
       "      <th>96</th>\n",
       "      <td>this direction: https://www.bustle.com/articles/98651-is-semen-really-good-for-your-skin-6-things-you-didnt-know-you-could-do-with</td>\n",
       "    </tr>\n",
       "    <tr>\n",
       "      <th>97</th>\n",
       "      <td>emotional affair ass. they have emotional affairs. they only talk. fucked that married girl understand women better, hee). days very emotional with after came inside guess emotional affair. inside...</td>\n",
       "    </tr>\n",
       "    <tr>\n",
       "      <th>98</th>\n",
       "      <td>wheymen</td>\n",
       "    </tr>\n",
       "    <tr>\n",
       "      <th>99</th>\n",
       "      <td>idk, dude, you. thinking about some post-divorce perspective post situation unwinds. great. her? mean, that head very happy person, feelz before reelz, read i've seen ex-wife today. looks... pathe...</td>\n",
       "    </tr>\n",
       "  </tbody>\n",
       "</table>\n",
       "<p>100 rows × 1 columns</p>\n",
       "</div>"
      ],
      "text/plain": [
       "                                                                                                                                                                                                       body\n",
       "0                                                                                                                                                                                              think great.\n",
       "1   this rant mad!!!111 don't want lift don't want have muscles\" don't want look like man\" that's words swolemädchen haven been mislead broki, that hear most often! there whey your chalice, what going...\n",
       "2   wants break contact with that other girl. when that, gone. similar situation happened life. this about you, this about her. \"take back\", means value, that other girl does not. noticed, that aren't...\n",
       "3   making mistake. cheating addiction. showing that addiction mistake codependency. even worst addiction. focus actions: leave that bitch, don't live with never ever, divorce her. soon possible. your...\n",
       "4                                                                                                                                                    wife classic redhead your wife classic reflection you.\n",
       "5   100% purple pill. problem didn't read article about being purple pill, i've read article about low-iq baby-faced hobbit wearing salvation army sweater built well enough, because that's what ~~girl...\n",
       "6   this mainly those that know background \"read post history, please, because i've been busy posting shit instead reading fucking book from sidebar\" long story short wife just figured deleted some te...\n",
       "7                                                                                                                                       instead looking excuses, started investigating solutions lift diet.\n",
       "8                                                                                                                                               block everywhere, phone, facebook, email. never talk again.\n",
       "9   reason lose frame over some guy, obviously either hangover looked someone pass anger whatever. some guards like show their authoritaeee respect that, always humble front them, shake their hands th...\n",
       "10  your wife leaves because wants beta walk this happened. from what kids tell does everything says, talks with phone lot, spends time with her. he's basically before addicts therapy trp. and, finall...\n",
       "11  her: (quiet) \"yes. don't want divorce you, understand. won't bring up.\" looks like tired with words spewed just wanted stop yapping. said that finally stfu start posting your wall text instead bec...\n",
       "12                                                                                                                                                     you're even worse than husband. you're beta orbiter.\n",
       "13  every single bullet dodged. pre-rp, even. very fat. cats. married ones bored look side dick. wife post history. give enough time eventually they detoriate. and, actually, feel guilty being enough ...\n",
       "14                honest, laugh yourself, boner not, loose boner won't, will last seconds seconds when first fucked) minutes, this does matter. you're there have fun, show idgaf make sure won't pregnant.\n",
       "15  bigkyle23, nice meet you. deal that hopeless fuck that book helped only useful 10%, this means didn't need other 90%. this means you're probably less useless fuck than was. which good you. deal th...\n",
       "16  sure this right place post, married only 19yo college student, father pointed here thought make post. ahahahahahah. kudos. real mother fucker, that yours. advice greatly appreciated. lift sidebar ...\n",
       "17                                                                                                                          dude, you're great. you're best troll whole year it's december means something.\n",
       "18                                                                                                                                                               yes. write post about this main subreddit.\n",
       "19  yes, don’t care much came here, read actual discussion, felt same butthurt when hunter, then added this comment show your lack care even further. congratulations. you’re best keyboard warrior, jus...\n",
       "20    maybe it's just easier have face face conversation talking about having face face conversations after posted that anti rant seems hypocritical just clearly shows made mistake have fucking idea what\n",
       "21  from what understood, your opinion, tfa's work detrimental purple-pill, watered-down piece shit. cool, choice attack writings, instead decided attack looks, only made sure know he's less swole tha...\n",
       "22  after back forth tells come over after work..but adds \"but just want make clear that don't want have with you\" dtf. wanted fuck you. girl saying this actually good thing want fuck her). hear this ...\n",
       "23                                                                                                                                                     know what they call a... whey shake with bcaa paris?\n",
       "24                                                                                                           pussy locked down there such thing \"pussy locked down\". those young guys about learn hard way.\n",
       "25                                                                                                                     don't sucked little good sex. this. best fucks with wife were ones before moved out.\n",
       "26                                                                                       your post overly focused woman reads like prime r/cuckoldfiction material. just copy-paste this post introduction.\n",
       "27                                                                              this exactly. when divorced, thought \"oh, she's good mother\". what bullcrap. good mother disrespects father front children.\n",
       "28                                                                                                                                                                               fucking wife. fault again.\n",
       "29                                                                                                                                                                                               (our) life\n",
       "..                                                                                                                                                                                                      ...\n",
       "70  disowned because what wanted told fuck home did. invited rented flat then, refused. ignored wife, ignored family events invited today understand narcissistic accept wanted live. same thing with wi...\n",
       "71  used tell badly wanted bang, she's saying won't. this, dear class, should never ever plate fucking manipulating you, already signed relationship had, using plan orbiter! i've been holding frame we...\n",
       "72  enjoy worry-free creampies while lasts. month pregnancy visible unless carry ultrasound machine place. don't worry, lease portable one. find that small beating heart? cool, ultrasound lube. sarcas...\n",
       "73  i'll take opposite stance other guys commenting. think difference between that pecs your pecs insignificant. inches maybe lifting months longer, maybe eats kcal more, maybe... doesn't matter. does...\n",
       "74  sure what's going with endorsed contributors, iirc, girl mentioning means sex. says sex\", thinks about sex. your decisions about her... what your goal? don't reply just right there. want sex, just...\n",
       "75                                                                                                                                                              frame drop detected. butt hurt intensifies.\n",
       "76  standard answer woman threatens leave “the door right there.” became extremely simple when started weaning codependency. \"fight relationship\", sounds head, overheard probably over some disney blue...\n",
       "77                                                                                                  agree fully. whole situation would existent haven’t left youngest. lesson learned, thanks your comment.\n",
       "78                                                                                                                                                                           fibrillation! apoc, location?!\n",
       "79                                                               that's woman stuff. just fucking ignore handled perfectly asshole, caused some emotion. wash dick tonight were you. don't make harder her.\n",
       "80                                                               explanation first post. kids from previous relationship(s). his. he's taking care probably them. will never respect him. u/venge97ri, hear\n",
       "81  would safe assume that thought fucking when arrive would have almost certainly crossed mind? dude this moment missed, when thought about fucking: wow, it's been long time since took clothes room. ...\n",
       "82  here your problems: drunk lost frame deal won't never ever give girl reasons fuck while freely expressing myself. there will never break with you\" from there will ghosting, unanswered calls, block...\n",
       "83  there nothing ashamed being caring doctor does mean you’re unmanly. female patients feel that they’re actually more comfortable with you. shit, some sexual banter with most patients every single t...\n",
       "84  people like many leave. special snowflake endorsed cucktributor decides leave because some comments, means shouldn't endorsed first place. unless meant something else, that's first thing that came...\n",
       "85                                                                                                                                                                                               r/thanktrp\n",
       "86  divorced father here. does that mean value high, some super alpha just came along? probably wasn't better, just different. read \"practical female psychology\". will never alpha world world? workpla...\n",
       "87                                                                                                                                               like your photo without shirt, then i'll give advice. post\n",
       "88  that's proper observation it's actually deeper thing. there's that book \"obesity family affair\". there overeaters anonymous meetings. there multiple cases women loosing weight fucking other people...\n",
       "89                                                                                               please critique this **text discussion with wife** boom, here's your critique. bold font what wrong. done.\n",
       "90                                                                                                                                                         skinny white knight. you're beyond hopeless man.\n",
       "91                                                                                                             drunks gonna drunk. codependent bitches gonna stockholm syndrome. atta boy. that showed her.\n",
       "92  there gives fuck about this exactly maybe someone does, definitely hey, cholo, wasn't that your quote have fridge... that went... \"you're weak fuck thousands years already dead your wife would fuc...\n",
       "93  can’t have orgasm when have start having fun. orgasm none your business. having your life, being dominant, happy with have with from your perspective? stop caring about orgasm. women orgasm with d...\n",
       "94                                                                                                                                                                last time gave drama. bitches love drama.\n",
       "95  http://www.retroactivejealousycrusher.com/ dude, what heck. r/cuckold this way. edit: honestly. would woman many guys slept with? n-count that makes what does that matter? would woman about this? ...\n",
       "96                                                                       this direction: https://www.bustle.com/articles/98651-is-semen-really-good-for-your-skin-6-things-you-didnt-know-you-could-do-with\n",
       "97  emotional affair ass. they have emotional affairs. they only talk. fucked that married girl understand women better, hee). days very emotional with after came inside guess emotional affair. inside...\n",
       "98                                                                                                                                                                                                  wheymen\n",
       "99  idk, dude, you. thinking about some post-divorce perspective post situation unwinds. great. her? mean, that head very happy person, feelz before reelz, read i've seen ex-wife today. looks... pathe...\n",
       "\n",
       "[100 rows x 1 columns]"
      ]
     },
     "metadata": {},
     "output_type": "display_data"
    }
   ],
   "source": [
    "import pandas as pd\n",
    "import datetime as dt\n",
    "\n",
    "# COMMENTS FOR A USER\n",
    "sub_comments_dict = { \"body\":[]}\n",
    "\n",
    "for comment in reddit.redditor('ex_addict_bro').comments.top('all'):\n",
    "    sub_comments_dict['body'].append(comment.body)\n",
    "    \n",
    "#sub_comments = [sub for sub in sub_comments if not sub.domain.startswith('self.')]\n",
    "\n",
    "pd.set_option(\"display.max_colwidth\", 200)\n",
    "topics_data = pd.DataFrame(sub_comments_dict)\n",
    "\n",
    "# removing everything except alphabets`\n",
    "topics_data['body'] = topics_data['body'].replace(\"[^a-zA-Z#]\", \" \")\n",
    "# removing short words\n",
    "topics_data['body'] = topics_data['body'].apply(lambda x: ' '.join([w for w in x.split() if len(w)>3]))\n",
    "# make all text lowercase\n",
    "topics_data['body'] = topics_data['body'].apply(lambda x: x.lower())    \n",
    "\n",
    "display(topics_data)"
   ]
  },
  {
   "cell_type": "code",
   "execution_count": 98,
   "metadata": {},
   "outputs": [],
   "source": [
    "def lsa(pandas_series): #tokenize\n",
    "    from nltk.corpus import stopwords\n",
    "    stop_words = stopwords.words('english')\n",
    "\n",
    "    # tokenization\n",
    "    tokenized_doc = pandas_series.apply(lambda x: x.split())\n",
    "\n",
    "    # remove stop-words\n",
    "    tokenized_doc = tokenized_doc.apply(lambda x: [item for item in x if item not in stop_words])\n",
    "\n",
    "    # de-tokenization\n",
    "    detokenized_doc = []\n",
    "    for i in range(len(topics_data)):\n",
    "        t = ' '.join(tokenized_doc[i])\n",
    "        detokenized_doc.append(t)\n",
    "\n",
    "    sub_comments = detokenized_doc\n",
    "\n",
    "    #Document-Term Matrix\n",
    "    from sklearn.feature_extraction.text import TfidfVectorizer\n",
    "\n",
    "    vectorizer = TfidfVectorizer(stop_words='english', \n",
    "                                 #max_features= 500, # keep top 1000 terms \n",
    "                                 max_df = 0.5,\n",
    "                                 use_idf=True,\n",
    "                                 smooth_idf=True)\n",
    "\n",
    "\n",
    "    document_term_matrix = vectorizer.fit_transform(pandas_series)\n",
    "\n",
    "    from sklearn.decomposition import TruncatedSVD\n",
    "\n",
    "    # SVD represent documents and terms in vectors \n",
    "    n_topics = 3\n",
    "    lsa_model = TruncatedSVD(n_components=n_topics, \n",
    "                             algorithm='randomized', \n",
    "                             n_iter=100, \n",
    "                             random_state=122)\n",
    "\n",
    "    terms = vectorizer.get_feature_names()\n",
    "    lsa_model.fit(document_term_matrix)\n",
    "    return lsa_model\n",
    "\n",
    "def get_topics(lsa_model):\n",
    "    topics = {}\n",
    "    for i, comp in enumerate(lsa_model.components_):\n",
    "        terms_comp = zip(terms, comp)\n",
    "        sorted_terms = sorted(terms_comp, key= lambda x:x[1], reverse=True)[:7]\n",
    "        topic_num = \"Topic \" + str(i) + \": \"\n",
    "        topic_words = \"\"\n",
    "        for t in sorted_terms:\n",
    "            topic_words= topic_words + t[0] + \" \"\n",
    "        topics[topic_num] = topic_words\n",
    "    return topics"
   ]
  },
  {
   "cell_type": "code",
   "execution_count": 99,
   "metadata": {},
   "outputs": [
    {
     "data": {
      "text/plain": [
       "{'Topic 0: ': 'freelance fresh line donut veganized tasty wedding ',\n",
       " 'Topic 1: ': 'pizza stop wwf line woolies make hard ',\n",
       " 'Topic 2: ': 'greens roommate line meme caught toy goals '}"
      ]
     },
     "metadata": {},
     "output_type": "display_data"
    }
   ],
   "source": [
    "lsa_model = lsa(topics_data['body'])\n",
    "display(get_topics(lsa_model))"
   ]
  },
  {
   "cell_type": "markdown",
   "metadata": {},
   "source": [
    "## Topic Analysis for Vegan (313k), VeganCircleJerk (23k), AskReddit (221m), TodayILearned (20m), TheRedPill (235k), Atheism (2.4m)"
   ]
  },
  {
   "cell_type": "code",
   "execution_count": 100,
   "metadata": {},
   "outputs": [],
   "source": [
    "import csv\n",
    "\n",
    "y_vegan = []\n",
    "y_vegancj = []\n",
    "y_askreddit = []\n",
    "y_trd = []\n",
    "y_til = []\n",
    "y_atheism = []\n",
    "\n",
    "with open('submissions.csv') as sub_file:\n",
    "    subreader = csv.reader(sub_file)\n",
    "    for row in subreader:\n",
    "        if row[2] == \"vegan\":\n",
    "            y_vegan.append(row[0])\n",
    "        elif row[2] == \"vegancirclejerk\":\n",
    "            y_vegancj.append(row[0])\n",
    "        elif row[2] == \"AskReddit\":\n",
    "            y_askreddit.append(row[0])\n",
    "        elif row[2] == \"todayilearned\":\n",
    "            y_til.append(row[0])\n",
    "        elif row[2] == \"TheRedPill\":\n",
    "            y_trd.append(row[0])\n",
    "        elif row[2] == \"atheism\":\n",
    "            y_atheism.append(row[0])\n",
    "            \n",
    "topics_data['y_vegan'] = pd.DataFrame(y_vegan)\n",
    "topics_data['y_vegancj'] = pd.DataFrame(y_vegancj)\n",
    "topics_data['y_askreddit'] = pd.DataFrame(y_askreddit)\n",
    "topics_data['y_trd'] = pd.DataFrame(y_trd)\n",
    "topics_data['y_til'] = pd.DataFrame(y_til)\n",
    "topics_data['y_atheism'] = pd.DataFrame(y_atheism)         "
   ]
  },
  {
   "cell_type": "code",
   "execution_count": 101,
   "metadata": {},
   "outputs": [
    {
     "data": {
      "text/plain": [
       "{'Topic 0: ': 'eats celiac annoyed ed cooked common beechwood ',\n",
       " 'Topic 1: ': 'celiac bakery cider anti beechwood beach denver ',\n",
       " 'Topic 2: ': 'ed common ect 570 cupcakes attack community '}"
      ]
     },
     "metadata": {},
     "output_type": "display_data"
    }
   ],
   "source": [
    "lsa_model = lsa(topics_data['y_vegan'])\n",
    "display(get_topics(lsa_model))"
   ]
  },
  {
   "cell_type": "code",
   "execution_count": 102,
   "metadata": {},
   "outputs": [
    {
     "data": {
      "text/plain": [
       "{'Topic 0: ': 'coconut beloved beefy act condemn coca appetite ',\n",
       " 'Topic 1: ': 'beer anniversary 110 alternatives bag beekeeping buttermilk ',\n",
       " 'Topic 2: ': 'collection browned commercial checked annual attack baked '}"
      ]
     },
     "metadata": {},
     "output_type": "display_data"
    }
   ],
   "source": [
    "lsa_model = lsa(topics_data['y_vegancj'])\n",
    "display(get_topics(lsa_model))"
   ]
  },
  {
   "cell_type": "code",
   "execution_count": 103,
   "metadata": {},
   "outputs": [
    {
     "data": {
      "text/plain": [
       "{'Topic 0: ': 'council baking dumb dyes definition companies digestive ',\n",
       " 'Topic 1: ': 'billion biscuit beans crumbles amazing big church ',\n",
       " 'Topic 2: ': 'baking celiac bio companies dairy biscuit disperse '}"
      ]
     },
     "metadata": {},
     "output_type": "display_data"
    }
   ],
   "source": [
    "lsa_model = lsa(topics_data['y_askreddit'])\n",
    "display(get_topics(lsa_model))"
   ]
  },
  {
   "cell_type": "code",
   "execution_count": 104,
   "metadata": {},
   "outputs": [
    {
     "data": {
      "text/plain": [
       "{'Topic 0: ': 'concerns director blank daiya entire doesn alpaca ',\n",
       " 'Topic 1: ': 'chili emotions bell billion cooking beans anyform ',\n",
       " 'Topic 2: ': 'beans broken blood energy aussies entire chef '}"
      ]
     },
     "metadata": {},
     "output_type": "display_data"
    }
   ],
   "source": [
    "lsa_model = lsa(topics_data['y_trd'])\n",
    "display(get_topics(lsa_model))"
   ]
  },
  {
   "cell_type": "code",
   "execution_count": 105,
   "metadata": {},
   "outputs": [
    {
     "data": {
      "text/plain": [
       "{'Topic 0: ': 'happier isn essentials pacific project belgium problem ',\n",
       " 'Topic 1: ': 'belgium dietary phl isn checked fist farfalle ',\n",
       " 'Topic 2: ': 'lactose present feelsgoodman help assumed oprah basically '}"
      ]
     },
     "metadata": {},
     "output_type": "display_data"
    }
   ],
   "source": [
    "lsa_model = lsa(topics_data['y_til'])\n",
    "display(get_topics(lsa_model))"
   ]
  },
  {
   "cell_type": "code",
   "execution_count": 106,
   "metadata": {},
   "outputs": [
    {
     "data": {
      "text/plain": [
       "{'Topic 0: ': 'drink adds argument easy continue canines cake ',\n",
       " 'Topic 1: ': 'continue bomb clowns asking finally amazed biomarkers ',\n",
       " 'Topic 2: ': 'announcing community articles craving footprint access farfalle '}"
      ]
     },
     "metadata": {},
     "output_type": "display_data"
    }
   ],
   "source": [
    "lsa_model = lsa(topics_data['y_atheism'])\n",
    "display(get_topics(lsa_model))"
   ]
  },
  {
   "cell_type": "code",
   "execution_count": null,
   "metadata": {},
   "outputs": [],
   "source": []
  }
 ],
 "metadata": {
  "kernelspec": {
   "display_name": "Python 3",
   "language": "python",
   "name": "python3"
  },
  "language_info": {
   "codemirror_mode": {
    "name": "ipython",
    "version": 3
   },
   "file_extension": ".py",
   "mimetype": "text/x-python",
   "name": "python",
   "nbconvert_exporter": "python",
   "pygments_lexer": "ipython3",
   "version": "3.6.5"
  }
 },
 "nbformat": 4,
 "nbformat_minor": 2
}

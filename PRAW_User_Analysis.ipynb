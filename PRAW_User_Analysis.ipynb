{
 "cells": [
  {
   "cell_type": "markdown",
   "metadata": {},
   "source": [
    "# User's Activity Initial Exploration notebook\n",
    "\n",
    "Extracting a particular user's activity (posts, comments)\n",
    "\n",
    "- Pie chart of which subreddits they post/comment\n",
    "- Scatter Plot of user's parcitipation in subreddits over time"
   ]
  },
  {
   "cell_type": "code",
   "execution_count": 1,
   "metadata": {},
   "outputs": [],
   "source": [
    "from matplotlib.pyplot import *\n",
    "import numpy"
   ]
  },
  {
   "cell_type": "code",
   "execution_count": 1,
   "metadata": {},
   "outputs": [],
   "source": [
    "import praw\n",
    "\n",
    "reddit = praw.Reddit(client_id='1QKQYY6zEUgYUw',\n",
    "                     client_secret='8xyLf9B_raDH9FIs54t3yzYqBqc',\n",
    "                     password='redditpw',\n",
    "                     user_agent='testscript by /u/praw_test_1',\n",
    "                     username='praw_test_1')"
   ]
  },
  {
   "cell_type": "code",
   "execution_count": 3,
   "metadata": {},
   "outputs": [],
   "source": [
    "reddit.config.store_json_result = True\n",
    "subreddit = reddit.subreddit(\"machinelearning\")"
   ]
  },
  {
   "cell_type": "markdown",
   "metadata": {},
   "source": [
    "## Exploring API"
   ]
  },
  {
   "cell_type": "code",
   "execution_count": 4,
   "metadata": {},
   "outputs": [
    {
     "name": "stdout",
     "output_type": "stream",
     "text": [
      "[D] What is the best ML paper you read in 2018 and why?\n",
      "[D] Machine Learning - WAYR (What Are You Reading) - Week 57\n"
     ]
    }
   ],
   "source": [
    "for post in subreddit.hot(limit=2):\n",
    "    print(post.title)"
   ]
  },
  {
   "cell_type": "code",
   "execution_count": 5,
   "metadata": {},
   "outputs": [
    {
     "name": "stdout",
     "output_type": "stream",
     "text": [
      "Nowy paszport: Hasło \"Bóg, Honor, Ojczyzna\" narusza wolność sumienia i wyznania? Do Rzecznika Praw Obywatelskich wpłynęło ponad 1,5 tys. skarg\n",
      "aw34rw\n",
      "Chiny wytykające USA pogwałcenia praw człowieka\n",
      "b1cemw\n",
      "Price Change History Cryptocurrency, Gain and Loss of Value\n",
      "b2c6wg\n",
      "„Bóg, Honor, Ojczyzna” w nowym paszporcie. Ponad 1500 osób wniosło skargę do Rzecznika Praw Obywatelskich\n",
      "az3i2i\n",
      "Help change wikipedia article name from \"Partitions of Poland\" to \"Partitions Of Polish-Lithuanian Commonwealth\"\n",
      "awtuhm\n",
      "Biskupi o deklaracji LGBT+. \"Sprzeczna z prawem rodziców\"\n",
      "ayqv7r\n",
      "[No Spoilers] Story?\n",
      "avvwnu\n",
      "No i tego, demokracja?\n",
      "aydgt4\n",
      "Free upvotes. I’ll upvote your comments\n",
      "b2b7le\n",
      "Prychłem mocno. A ja nigdy nie prycham xD\n",
      "at8zj2\n",
      "Europe after Treaty of Utrecht 1713\n",
      "azjzpq\n",
      "How to check if Redditor/Subreddit exists?\n",
      "b2vcki\n",
      "Direct messages using PRAW\n",
      "b3k704\n",
      "Looking for some help with creating a bot for a subreddit I created. Would like it to do 2 things. Any help would be great.\n",
      "avlbl6\n",
      "I am working on ways to ban half of the sub, that is, if you guys really want to. Get this to 60K(aka half the sub) upvotes that way I know this is what you all want.\n",
      "8vehjn\n",
      "[PRAW] AttributeError: 'CommentModeration' object has no attribute 'send_removal_message'\n",
      "b3152o\n",
      "AttributeError: module 'praw' has no attribute 'Reddit\n",
      "b2qpxh\n",
      "Mod mail flooded\n",
      "ahpa5w\n",
      "Ask Anything Monday - Weekly Thread\n",
      "adbrw1\n",
      "[PRAW] API Calls and Importing Streams\n",
      "azb0ca\n",
      "Help with Search API\n",
      "b0wa14\n",
      "User Flair - CSS_Classes and Flair_template_id help\n",
      "as1dr4\n",
      "Is there a way to unsubscribe from all subreddits\n",
      "ayrpby\n",
      "Request submissions from post No. x on\n",
      "b3gecf\n",
      "What is the most accepted way of turning a .py file into an executable?\n",
      "aaau5e\n",
      "Using PRAW for monitoring accounts or subs\n",
      "b15una\n",
      "I've seen a couple of posts wondering how to use PRAW to get posts by a time frame in a subreddit, I have a solution\n",
      "av000u\n",
      "Get id of a top level pm with PRAW?\n",
      "b1xtiy\n",
      "PRAW: Getting the number of replies on each level?\n",
      "awmbd3\n",
      "Error: You provided the name of a praw.ini configuration which does not exist\n",
      "b2nml3\n",
      "Im trying to run my bot by following the sticky post. Do I need to install homebrew package manager and praw in my terminal EVERY time I run my bot?\n",
      "aymq5y\n",
      "Python code for obtaining every submission on a subreddit using Praw and Pushshift.io\n",
      "ave6fe\n",
      "Can automod count number of posts in the past 24 hours in a specific sub for one user?\n",
      "azy24x\n",
      "Is it possible to get a list of the invited moderators to a subreddit?\n",
      "b27r1q\n",
      "reddit bot that replies to comments of a certain format\n",
      "as8j2d\n",
      "Issues with PRAW and DigitalOcean's proxy\n",
      "b0ph2x\n",
      "konsTYtucJA?\n",
      "achmez\n",
      "Does anybody know where I can find a comparison of how many API endpoints are covered by PRAW and the other major Reddit API libraries?\n",
      "ape6ee\n",
      "hello, I am trying to program a reddit bot and I encountered this problem.\n",
      "arukbg\n",
      "Ok, experienced mods, what are the best tools you use?\n",
      "aq6gkk\n",
      "Undue delay after moving function outside of main bot script\n",
      "amyl5z\n",
      "if or bot shuts off today its most likely a wifi outage or smth\n",
      "amhon7\n",
      "PRAW & mysql.connector, unable to INSERT variable into database\n",
      "apbn8x\n",
      "How to ban a user from a subreddit?\n",
      "ao2ixc\n",
      "Using Refresh Token in .ini files?\n",
      "anj4p3\n",
      "Pip install praw gives error\n",
      "arhugx\n",
      "ไม่อยากสนิทกับความเหงา(2015)[Praw Kanitkul][GMM GRAMMY]\n",
      "b2t9un\n",
      "I Made a Quick Script to Pull 10 \"Hot\" Wallpapers from /r/wallpaper and Automatically Download them Using Requests and PRAW\n",
      "ai7teo\n",
      "Trying to make a Reddit bot, but I'm having trouble with praw.\n",
      "azno60\n",
      "[PRAW] Threading with single Reddit instance\n",
      "aue9lm\n",
      "[PSAW] How can I get only new comments?\n",
      "arzz1a\n",
      "Why doesn't this code work?\n",
      "argpw3\n",
      "Discord/Reddit Bot, multi-threading.\n",
      "ag89fd\n",
      "Ile masz lat, ile zarabiasz i gdzie w Polsce mieszkasz?\n",
      "alelrn\n",
      "City College Phase 3 - Painting for Beginners\n",
      "ad07v3\n",
      "A live visualization of posts on r/worldnews over the past 20 hours [OC]\n",
      "as65x5\n",
      "How to make a Reddit crawler for a user's post history?\n",
      "av5dvp\n",
      "Bulkdownload of subreddit's images without PRAW\n",
      "akapz2\n",
      "How come the name in my code is not defined? (complete beginner)\n",
      "asxs8i\n",
      "PRAW help? Don't think bot can keep up.\n",
      "ar4gfo\n",
      "Can't assign flair_template_id!\n",
      "al21l7\n",
      "Can’t install praw\n",
      "arq48b\n",
      "Using the Python Reddit API Wrapper (PRAW) to write a script that pulls my own saved links...but how to I access the 'saved' object?\n",
      "asx6ud\n",
      "Forever Love Hits By Praw Kanitkul(2013)[Praw Kanitkul][GMM Grammy]\n",
      "b33epx\n",
      "Using data from PRAW i made a live visualization of posts on r/worldnews over the past 20 hours\n",
      "as61zo\n",
      "PRAW ban log query does not report ban duration\n",
      "apbw6k\n",
      "Combined PRAW with discord.py to make so\n",
      "arwi3n\n",
      "Trying to use a bot for the first time and I'm struggling with praw.Reddit() fields. Help would be appreciated!\n",
      "aodh3g\n",
      "scrape top post of specific timespan with praw\n",
      "b067mg\n",
      "PRAW: is there a way to get an objects fullname/type? t1_,t2_, etc.\n",
      "atrt4i\n",
      "[PRAW] scraping submissions by date\n",
      "axodkr\n",
      "เพลงประกอบภาพยนตร์ Mind Memory 1.44 พื้นที่รัก(2017)[Praw Kanitkul][GMM GRAMMY]\n",
      "b2znbt\n",
      "จิ๊กซอว์ (New Version)(2014)[Praw Kanitkul][GMM GRAMMY]\n",
      "b2toqp\n",
      "[PRAW] how can I get the child comments?\n",
      "aojd3d\n",
      "Creating a keyword search PRAW.\n",
      "ao66re\n",
      "[PRAW] - failing to authenticate\n",
      "anrxuj\n",
      "Światowy Dzień Książki i Praw Autorskich\n",
      "b2cpxs\n",
      "[PRAW] best way to get UTC timestamp (submission.created_utc gives me my local CET time instead of actual UTC)\n",
      "anuhbf\n",
      "I am writing a bot using PRAW that searches comments in certain subreddits for a keyphrase, and if it finds that phrase retrieves the content of the comment above the comment containing the KP into a variable. How do I go about this?\n",
      "b09axo\n",
      "Praw long sleep\n",
      "ajmy2t\n",
      "There's a small mistake in PRAW's documentation...\n",
      "anpku8\n",
      "How do I immediately reply to my own comment using PRAW?\n",
      "aul7dp\n",
      "scrape top post of specific timespan with praw\n",
      "b0lfvy\n",
      "Extract subreddit name from comments of user\n",
      "arxcjt\n",
      "PRAW. Get all comments from a thread with > 100,000 comments\n",
      "aif3fc\n",
      "Pinned: Bot info and status updates\n",
      "ak2dow\n",
      "Programmatically updating subreddit banner image\n",
      "arhjgv\n",
      "Rzecznik Praw Dziecka zaprosił prezydenta Warszawy do rozmów.\n",
      "b0pud3\n",
      "Using PRAW to block users based on there username.\n",
      "atv8sa\n",
      "PRAW: Error getting a comment deleted by the user.\n",
      "ase2rz\n",
      "Rzecznik Praw Dziecka przeciwko karcie LGBT\n",
      "azrpat\n",
      "Is there still a 30 second limit on requests?\n",
      "aag4oh\n",
      "Test\n",
      "av9xy9\n",
      "Remove announcement from submission using PRAW\n",
      "aushez\n",
      "PRAW documentation\n",
      "b0demg\n",
      "[PRAW] Getting new comments in r/all\n",
      "arnlg7\n",
      "Polska przegrała przed Trybunałem Praw Człowieka. Musi zapłacić odszkodowania za ekshumacje smoleńskie\n",
      "adgz1z\n",
      "How to get a reddit post / thread's title / text / body and images or videos\n",
      "afvc21\n",
      "How to create a subreddit using PRAW?\n",
      "aht9k0\n",
      "Nowy Rzecznik Praw Dziecka: In vitro to metoda niegodziwa\n",
      "a5ux87\n"
     ]
    }
   ],
   "source": [
    "for submission in reddit.subreddit('all').search('praw'):\n",
    "    print(submission.title)\n",
    "    print(submission.id)"
   ]
  },
  {
   "cell_type": "markdown",
   "metadata": {},
   "source": [
    "## A user's activity posting and commenting"
   ]
  },
  {
   "cell_type": "code",
   "execution_count": 6,
   "metadata": {},
   "outputs": [
    {
     "data": {
      "text/plain": [
       "{'AskReddit': 1,\n",
       " 'ThankTRP': 1,\n",
       " 'TwoXChromosomes': 1,\n",
       " 'amishadowbanned': 1,\n",
       " 'askMRP': 11,\n",
       " 'asktrp': 6,\n",
       " 'marriedredpill': 29,\n",
       " 'swoleacceptance': 1}"
      ]
     },
     "execution_count": 6,
     "metadata": {},
     "output_type": "execute_result"
    }
   ],
   "source": [
    "sub_posts = []\n",
    "\n",
    "for submission in reddit.redditor('ex_addict_bro').submissions.top('all'):\n",
    "#     print(submission.subreddit)\n",
    "    \n",
    "    sub_posts.append(submission.subreddit.display_name)\n",
    "    \n",
    "l = list(numpy.array(sub_posts))\n",
    "unique, counts = numpy.unique(l, return_counts=True)\n",
    "dict(zip(unique, counts))"
   ]
  },
  {
   "cell_type": "code",
   "execution_count": 8,
   "metadata": {},
   "outputs": [
    {
     "data": {
      "text/plain": [
       "{'The_Donald': 1,\n",
       " 'askMRP': 40,\n",
       " 'asktrp': 26,\n",
       " 'marriedredpill': 30,\n",
       " 'swoleacceptance': 3}"
      ]
     },
     "execution_count": 8,
     "metadata": {},
     "output_type": "execute_result"
    }
   ],
   "source": [
    "# COMMENTS FOR A USER\n",
    "sub_comments = []\n",
    "\n",
    "for submission in reddit.redditor('ex_addict_bro').comments.top('all'):\n",
    "#     print(submission.subreddit)\n",
    "    \n",
    "    sub_comments.append(submission.subreddit.display_name)\n",
    "    \n",
    "k = list(numpy.array(sub_comments))\n",
    "unique_comments, counts_comments = numpy.unique(k, return_counts=True)\n",
    "dict(zip(unique_comments, counts_comments))"
   ]
  },
  {
   "cell_type": "code",
   "execution_count": 9,
   "metadata": {
    "scrolled": false
   },
   "outputs": [
    {
     "data": {
      "text/plain": [
       "([<matplotlib.patches.Wedge at 0x1194e75f8>,\n",
       "  <matplotlib.patches.Wedge at 0x1194e7da0>,\n",
       "  <matplotlib.patches.Wedge at 0x1194e7ba8>,\n",
       "  <matplotlib.patches.Wedge at 0x1194bcc18>,\n",
       "  <matplotlib.patches.Wedge at 0x1194bc0f0>,\n",
       "  <matplotlib.patches.Wedge at 0x1194bc6d8>,\n",
       "  <matplotlib.patches.Wedge at 0x1183b2978>,\n",
       "  <matplotlib.patches.Wedge at 0x1194d6710>],\n",
       " [Text(1.097913661463123, 0.0677169991408271, 'AskReddit'),\n",
       "  Text(1.0812704083303768, 0.20212447666984867, 'ThankTRP'),\n",
       "  Text(1.0482361968350138, 0.3334679529503048, 'TwoXChromosomes'),\n",
       "  Text(0.9993117919854818, 0.4597563946252031, 'amishadowbanned'),\n",
       "  Text(0.42876443644614376, 1.0129960799721887, 'askMRP'),\n",
       "  Text(-0.6628981278158411, 0.8778189290156899, 'asktrp'),\n",
       "  Text(-0.3655901613420098, -1.0374699195301633, 'marriedredpill'),\n",
       "  Text(1.097913674935863, -0.06771678070337234, 'swoleacceptance')])"
      ]
     },
     "execution_count": 9,
     "metadata": {},
     "output_type": "execute_result"
    },
    {
     "data": {
      "image/png": "[encoded data removed]",
      "text/plain": [
       "<Figure size 432x288 with 1 Axes>"
      ]
     },
     "metadata": {},
     "output_type": "display_data"
    }
   ],
   "source": [
    "matplotlib.pyplot.pie(counts, explode=None, labels=unique)"
   ]
  },
  {
   "cell_type": "code",
   "execution_count": 10,
   "metadata": {},
   "outputs": [
    {
     "data": {
      "text/plain": [
       "([<matplotlib.patches.Wedge at 0x1197f2dd8>,\n",
       "  <matplotlib.patches.Wedge at 0x1197fa358>,\n",
       "  <matplotlib.patches.Wedge at 0x1197fa898>,\n",
       "  <matplotlib.patches.Wedge at 0x1197fadd8>,\n",
       "  <matplotlib.patches.Wedge at 0x1198022e8>],\n",
       " [Text(1.099457216426567, 0.03455183421390152, 'The_Donald'),\n",
       "  Text(0.27355885742688163, 1.0654414819797937, 'askMRP'),\n",
       "  Text(-1.0654414755766863, -0.2735588823653393, 'asktrp'),\n",
       "  Text(0.4683572342337857, -0.9953097513542601, 'marriedredpill'),\n",
       "  Text(1.0951181661275413, -0.1035190910772067, 'swoleacceptance')])"
      ]
     },
     "execution_count": 10,
     "metadata": {},
     "output_type": "execute_result"
    },
    {
     "data": {
      "image/png": "[encoded data removed]",
      "text/plain": [
       "<Figure size 432x288 with 1 Axes>"
      ]
     },
     "metadata": {},
     "output_type": "display_data"
    }
   ],
   "source": [
    "matplotlib.pyplot.pie(counts_comments, explode=None, labels=unique_comments)"
   ]
  },
  {
   "cell_type": "markdown",
   "metadata": {},
   "source": [
    "## User's parcitipation in subreddits over time"
   ]
  },
  {
   "cell_type": "code",
   "execution_count": 25,
   "metadata": {},
   "outputs": [],
   "source": [
    "import pandas as pd\n",
    "\n",
    "\n",
    "# COMMENTS FOR A USER - IN TIME\n",
    "sub_name = []\n",
    "sub_id = []\n",
    "sub_time = []\n",
    "\n",
    "\n",
    "for comment in reddit.redditor('ex_addict_bro').comments.top('all'):\n",
    "    sub_name.append(comment.subreddit.display_name)\n",
    "    sub_id.append(comment.id)\n",
    "    sub_time.append(comment.created_utc)\n",
    "    \n",
    "for post in reddit.redditor('ex_addict_bro').submissions.top('all'):\n",
    "    sub_name.append(post.subreddit.display_name)\n",
    "    sub_id.append(post.id)\n",
    "    sub_time.append(post.created_utc)"
   ]
  },
  {
   "cell_type": "code",
   "execution_count": 29,
   "metadata": {},
   "outputs": [
    {
     "data": {
      "text/plain": [
       "<function matplotlib.pyplot.show(*args, **kw)>"
      ]
     },
     "execution_count": 29,
     "metadata": {},
     "output_type": "execute_result"
    },
    {
     "data": {
      "image/png": "[encoded data removed]",
      "text/plain": [
       "<Figure size 432x288 with 1 Axes>"
      ]
     },
     "metadata": {
      "needs_background": "light"
     },
     "output_type": "display_data"
    }
   ],
   "source": [
    "import matplotlib.pyplot as plt\n",
    "\n",
    "\n",
    "df=pd.DataFrame({'x': sub_time, 'y1': sub_name})\n",
    "# plt.plot( 'x', 'y1', data=df)\n",
    "\n",
    "plt.scatter(sub_time, sub_name, alpha=0.5)\n",
    "plt.show\n"
   ]
  },
  {
   "cell_type": "code",
   "execution_count": 43,
   "metadata": {},
   "outputs": [],
   "source": [
    "#What did he post on TwoXChromosomes?\n",
    "# for submission in reddit.redditor('ex_addict_bro').submissions.top('all'):\n",
    "#      print(submission.id if submission.subreddit == 'TwoXChromosomes' else 0)"
   ]
  },
  {
   "cell_type": "code",
   "execution_count": null,
   "metadata": {},
   "outputs": [],
   "source": []
  }
 ],
 "metadata": {
  "kernelspec": {
   "display_name": "Python 3",
   "language": "python",
   "name": "python3"
  },
  "language_info": {
   "codemirror_mode": {
    "name": "ipython",
    "version": 3
   },
   "file_extension": ".py",
   "mimetype": "text/x-python",
   "name": "python",
   "nbconvert_exporter": "python",
   "pygments_lexer": "ipython3",
   "version": "3.7.1"
  }
 },
 "nbformat": 4,
 "nbformat_minor": 2
}
